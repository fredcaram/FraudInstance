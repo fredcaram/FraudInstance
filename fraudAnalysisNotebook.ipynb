{
 "cells": [
  {
   "cell_type": "markdown",
   "metadata": {},
   "source": [
    "# Fraud Analysis Classification"
   ]
  },
  {
   "cell_type": "markdown",
   "metadata": {},
   "source": [
    "## Import Dependencies and load data"
   ]
  },
  {
   "cell_type": "code",
   "execution_count": 1,
   "metadata": {
    "collapsed": true
   },
   "outputs": [],
   "source": [
    "#Import necessary dependencies\n",
    "import pandas as pd\n",
    "from sklearn.feature_selection import SelectFromModel\n",
    "from sklearn.pipeline import Pipeline\n",
    "from sklearn.model_selection import train_test_split\n",
    "from re import sub\n",
    "from decimal import Decimal\n",
    "from sklearn.linear_model import LogisticRegression, LassoCV\n",
    "from sklearn.model_selection import GridSearchCV\n",
    "from sklearn.metrics import confusion_matrix\n",
    "\n",
    "fraudInstanceData = pd.read_csv(\"FraudInstanceData.csv\", header=0, index_col=0)"
   ]
  },
  {
   "cell_type": "markdown",
   "metadata": {},
   "source": [
    "## Treat categorical data"
   ]
  },
  {
   "cell_type": "code",
   "execution_count": 2,
   "metadata": {
    "collapsed": true
   },
   "outputs": [],
   "source": [
    "maritalStatuses = pd.get_dummies(fraudInstanceData[\"Marital Status\"])\n",
    "accomodationTypes = pd.get_dummies(fraudInstanceData[\"Accomodation Type\"])\n",
    "fraudInstanceData = fraudInstanceData.drop('Marital Status', axis=1)\n",
    "fraudInstanceData = fraudInstanceData.drop('Accomodation Type', axis=1)\n",
    "fraudInstanceData = fraudInstanceData.join(maritalStatuses)\n",
    "fraudInstanceData = fraudInstanceData.join(accomodationTypes)"
   ]
  },
  {
   "cell_type": "markdown",
   "metadata": {},
   "source": [
    "## Convert currency to numerical data"
   ]
  },
  {
   "cell_type": "code",
   "execution_count": 3,
   "metadata": {
    "collapsed": true
   },
   "outputs": [],
   "source": [
    "currencyToMoney = lambda c: Decimal(sub(r'[^\\d.]', '', c))\n",
    "fraudInstanceData['Claim Amount'] = fraudInstanceData[\"Claim Amount\"].apply(currencyToMoney)"
   ]
  },
  {
   "cell_type": "markdown",
   "metadata": {},
   "source": [
    "## Split training and testing data"
   ]
  },
  {
   "cell_type": "code",
   "execution_count": 4,
   "metadata": {
    "collapsed": true
   },
   "outputs": [],
   "source": [
    "y = fraudInstanceData.iloc[:, 1]\n",
    "X = fraudInstanceData.iloc[:, 1:]\n",
    "X_train, X_test, y_train, y_test = train_test_split(X, y, test_size=0.3, random_state=23)"
   ]
  },
  {
   "cell_type": "markdown",
   "metadata": {},
   "source": [
    "## Create the pipeline"
   ]
  },
  {
   "cell_type": "code",
   "execution_count": 5,
   "metadata": {
    "collapsed": true
   },
   "outputs": [],
   "source": [
    "feature_selection = SelectFromModel(LassoCV())\n",
    "pipeline = Pipeline([('feature_selection', feature_selection),\n",
    "                     ('regression', LogisticRegression())])\n",
    "grid_cv = GridSearchCV(pipeline, {}, cv=10)\n",
    "\n",
    "_ = grid_cv.fit(X_train, y_train)\n",
    "\n",
    "fs = grid_cv.best_estimator_.named_steps['feature_selection']\n",
    "selected_features = X_train.columns[fs.get_support()]"
   ]
  },
  {
   "cell_type": "markdown",
   "metadata": {},
   "source": [
    "The following features were selected by the Lasso selector:"
   ]
  },
  {
   "cell_type": "code",
   "execution_count": 6,
   "metadata": {},
   "outputs": [
    {
     "data": {
      "text/plain": [
       "Index(['Damaged Item'], dtype='object')"
      ]
     },
     "execution_count": 6,
     "metadata": {},
     "output_type": "execute_result"
    }
   ],
   "source": [
    "selected_features"
   ]
  },
  {
   "cell_type": "markdown",
   "metadata": {},
   "source": [
    "## Do the test data predictions and calculates the score"
   ]
  },
  {
   "cell_type": "code",
   "execution_count": 7,
   "metadata": {},
   "outputs": [
    {
     "name": "stdout",
     "output_type": "stream",
     "text": [
      "1.0\n"
     ]
    }
   ],
   "source": [
    "y_pred = grid_cv.predict(X_test)\n",
    "print(grid_cv.score(X_test, y_pred))"
   ]
  },
  {
   "cell_type": "markdown",
   "metadata": {},
   "source": [
    "## Displays the confusion matrix"
   ]
  },
  {
   "cell_type": "code",
   "execution_count": 8,
   "metadata": {},
   "outputs": [
    {
     "name": "stdout",
     "output_type": "stream",
     "text": [
      "[[439   0]\n",
      " [  0 866]]\n"
     ]
    }
   ],
   "source": [
    "print(confusion_matrix(y_test, y_pred))"
   ]
  },
  {
   "cell_type": "markdown",
   "metadata": {},
   "source": [
    "The source code can be found at: [https://github.com/fredcaram/FraudInstance]"
   ]
  }
 ],
 "metadata": {
  "kernelspec": {
   "display_name": "Python 3",
   "language": "python",
   "name": "python3"
  },
  "language_info": {
   "codemirror_mode": {
    "name": "ipython",
    "version": 3
   },
   "file_extension": ".py",
   "mimetype": "text/x-python",
   "name": "python",
   "nbconvert_exporter": "python",
   "pygments_lexer": "ipython3",
   "version": "3.6.1"
  }
 },
 "nbformat": 4,
 "nbformat_minor": 1
}
